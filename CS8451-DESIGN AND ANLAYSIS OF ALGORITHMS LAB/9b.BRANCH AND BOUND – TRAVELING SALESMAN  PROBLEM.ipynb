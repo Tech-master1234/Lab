{
 "cells": [
  {
   "cell_type": "code",
   "execution_count": 1,
   "id": "b9d690f7-a152-4b79-8fc4-5212ee84baa9",
   "metadata": {
    "tags": []
   },
   "outputs": [
    {
     "name": "stdout",
     "output_type": "stream",
     "text": [
      "Optimal Tour: [0, 1, 2, 3]\n",
      "Minimum Cost: 0\n"
     ]
    }
   ],
   "source": [
    "import numpy as np\n",
    "\n",
    "def tsp_cost(tour, distance_matrix):\n",
    "    total_cost = 0\n",
    "    for i in range(len(tour) - 1):\n",
    "        total_cost += distance_matrix[tour[i], tour[i + 1]]\n",
    "    total_cost += distance_matrix[tour[-1], tour[0]]  # Return to the starting city\n",
    "    return total_cost\n",
    "\n",
    "def branch_and_bound_tsp(distance_matrix):\n",
    "    n = len(distance_matrix)\n",
    "    optimal_tour = None\n",
    "    min_cost = float('inf')\n",
    "    initial_tour = list(range(n))\n",
    "    \n",
    "    def tsp_recursive(tour, cost):\n",
    "        nonlocal optimal_tour, min_cost\n",
    "        if len(tour) == n:\n",
    "            # Completed a full tour, update optimal solution if needed\n",
    "            if cost < min_cost:\n",
    "                min_cost = cost\n",
    "                optimal_tour = tour[:]\n",
    "            return\n",
    "        for city in range(n):\n",
    "            if city not in tour:\n",
    "                tsp_recursive(tour + [city], cost + distance_matrix[tour[-1], city])\n",
    "    \n",
    "    tsp_recursive(initial_tour, 0)\n",
    "    return optimal_tour, min_cost\n",
    "\n",
    "# Main program\n",
    "if __name__ == \"__main__\":\n",
    "    # Example distance matrix for the TSP\n",
    "    distance_matrix = np.array([\n",
    "        [0, 10, 15, 20],\n",
    "        [10, 0, 35, 25],\n",
    "        [15, 35, 0, 30],\n",
    "        [20, 25, 30, 0]\n",
    "    ])\n",
    "    optimal_tour, min_cost = branch_and_bound_tsp(distance_matrix)\n",
    "    print(\"Optimal Tour:\", optimal_tour)\n",
    "    print(\"Minimum Cost:\", min_cost)\n"
   ]
  }
 ],
 "metadata": {
  "kernelspec": {
   "display_name": "Python 3 (ipykernel)",
   "language": "python",
   "name": "python3"
  },
  "language_info": {
   "codemirror_mode": {
    "name": "ipython",
    "version": 3
   },
   "file_extension": ".py",
   "mimetype": "text/x-python",
   "name": "python",
   "nbconvert_exporter": "python",
   "pygments_lexer": "ipython3",
   "version": "3.11.5"
  }
 },
 "nbformat": 4,
 "nbformat_minor": 5
}
