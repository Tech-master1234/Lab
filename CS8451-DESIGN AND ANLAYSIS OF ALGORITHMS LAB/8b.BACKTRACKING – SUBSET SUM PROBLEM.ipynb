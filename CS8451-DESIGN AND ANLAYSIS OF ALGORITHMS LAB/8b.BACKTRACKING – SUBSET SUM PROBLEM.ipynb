{
 "cells": [
  {
   "cell_type": "code",
   "execution_count": 1,
   "id": "a870ad14-4a2d-4cd8-8b84-2b2e6a4fa0a6",
   "metadata": {
    "tags": []
   },
   "outputs": [
    {
     "name": "stdout",
     "output_type": "stream",
     "text": [
      "Subsets with sum equal to 7:\n",
      "[1, 2, 4]\n",
      "[2, 5]\n",
      "[3, 4]\n"
     ]
    }
   ],
   "source": [
    "def subset_sum_util(nums, target, current_sum, start, path, result):\n",
    "    if current_sum == target:\n",
    "        result.append(path[:])\n",
    "        return\n",
    "    for i in range(start, len(nums)):\n",
    "        if current_sum + nums[i] <= target:\n",
    "            path.append(nums[i])\n",
    "            subset_sum_util(nums, target, current_sum + nums[i], i + 1, path, result)\n",
    "            path.pop()\n",
    "\n",
    "def subset_sum(nums, target):\n",
    "    result = []\n",
    "    subset_sum_util(nums, target, 0, 0, [], result)\n",
    "    return result\n",
    "\n",
    "# Main program\n",
    "if __name__ == \"__main__\":\n",
    "    nums = [1, 2, 3, 4, 5]\n",
    "    target = 7\n",
    "    subsets = subset_sum(nums, target)\n",
    "    print(f\"Subsets with sum equal to {target}:\")\n",
    "    for subset in subsets:\n",
    "        print(subset)\n"
   ]
  }
 ],
 "metadata": {
  "kernelspec": {
   "display_name": "Python 3 (ipykernel)",
   "language": "python",
   "name": "python3"
  },
  "language_info": {
   "codemirror_mode": {
    "name": "ipython",
    "version": 3
   },
   "file_extension": ".py",
   "mimetype": "text/x-python",
   "name": "python",
   "nbconvert_exporter": "python",
   "pygments_lexer": "ipython3",
   "version": "3.11.5"
  }
 },
 "nbformat": 4,
 "nbformat_minor": 5
}
