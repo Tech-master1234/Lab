{
 "cells": [
  {
   "cell_type": "code",
   "execution_count": 1,
   "id": "823f479b-31e9-492b-bddd-4771c9e14871",
   "metadata": {
    "tags": []
   },
   "outputs": [
    {
     "name": "stdout",
     "output_type": "stream",
     "text": [
      "Topological Sorting Order:\n",
      "[5, 4, 2, 3, 1, 0]\n"
     ]
    }
   ],
   "source": [
    "from collections import defaultdict\n",
    "\n",
    "class Graph:\n",
    "    def __init__(self, vertices):\n",
    "        self.vertices = vertices\n",
    "        self.graph = defaultdict(list)\n",
    "\n",
    "    def add_edge(self, u, v):\n",
    "        self.graph[u].append(v)\n",
    "\n",
    "    def topological_sort_util(self, v, visited, stack):\n",
    "        visited[v] = True\n",
    "        for neighbor in self.graph[v]:\n",
    "            if not visited[neighbor]:\n",
    "                self.topological_sort_util(neighbor, visited, stack)\n",
    "        stack.append(v)\n",
    "\n",
    "    def topological_sort(self):\n",
    "        visited = [False] * self.vertices\n",
    "        stack = []\n",
    "        for i in range(self.vertices):\n",
    "            if not visited[i]:\n",
    "                self.topological_sort_util(i, visited, stack)\n",
    "        return stack[::-1]\n",
    "\n",
    "# Main program\n",
    "if __name__ == \"__main__\":\n",
    "    # Create a graph\n",
    "    g = Graph(6)\n",
    "    g.add_edge(5, 2)\n",
    "    g.add_edge(5, 0)\n",
    "    g.add_edge(4, 0)\n",
    "    g.add_edge(4, 1)\n",
    "    g.add_edge(2, 3)\n",
    "    g.add_edge(3, 1)\n",
    "    # Perform Topological Sorting\n",
    "    result = g.topological_sort()\n",
    "    # Display the result\n",
    "    print(\"Topological Sorting Order:\")\n",
    "    print(result)\n"
   ]
  },
  {
   "cell_type": "code",
   "execution_count": null,
   "id": "f866e4f0-b9f3-4d61-8c33-86ae90e833cf",
   "metadata": {},
   "outputs": [],
   "source": []
  }
 ],
 "metadata": {
  "kernelspec": {
   "display_name": "Python 3 (ipykernel)",
   "language": "python",
   "name": "python3"
  },
  "language_info": {
   "codemirror_mode": {
    "name": "ipython",
    "version": 3
   },
   "file_extension": ".py",
   "mimetype": "text/x-python",
   "name": "python",
   "nbconvert_exporter": "python",
   "pygments_lexer": "ipython3",
   "version": "3.11.5"
  }
 },
 "nbformat": 4,
 "nbformat_minor": 5
}
