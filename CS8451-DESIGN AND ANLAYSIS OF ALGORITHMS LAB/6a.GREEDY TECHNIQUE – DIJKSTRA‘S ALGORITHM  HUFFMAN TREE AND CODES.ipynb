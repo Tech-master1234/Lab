{
 "cells": [
  {
   "cell_type": "code",
   "execution_count": 2,
   "id": "8dded2e2-3435-4233-a777-cf3650f69df1",
   "metadata": {
    "tags": []
   },
   "outputs": [
    {
     "name": "stdout",
     "output_type": "stream",
     "text": [
      "Shortest distances from A: {'A': 0, 'B': 1, 'C': 3, 'D': 4}\n"
     ]
    }
   ],
   "source": [
    "import heapq\n",
    "\n",
    "def dijkstra(graph, source):\n",
    "    distances = {vertex: float('infinity') for vertex in graph}\n",
    "    distances[source] = 0\n",
    "    priority_queue = [(0, source)]\n",
    "    while priority_queue:\n",
    "        current_distance, current_vertex = heapq.heappop(priority_queue)\n",
    "        if current_distance > distances[current_vertex]:\n",
    "            continue\n",
    "        for neighbor, weight in graph[current_vertex].items():\n",
    "            distance = current_distance + weight\n",
    "            if distance < distances[neighbor]:\n",
    "                distances[neighbor] = distance\n",
    "                heapq.heappush(priority_queue, (distance, neighbor))\n",
    "    return distances\n",
    "\n",
    "# Main program\n",
    "if __name__ == \"__main__\":\n",
    "    # Example graph represented as an adjacency list\n",
    "    graph = {\n",
    "        'A': {'B': 1, 'C': 4},\n",
    "        'B': {'A': 1, 'C': 2, 'D': 5},\n",
    "        'C': {'A': 4, 'B': 2, 'D': 1},\n",
    "        'D': {'B': 5, 'C': 1}\n",
    "    }\n",
    "    source_vertex = 'A'\n",
    "    shortest_distances = dijkstra(graph, source_vertex)\n",
    "    print(f\"Shortest distances from {source_vertex}: {shortest_distances}\")\n"
   ]
  }
 ],
 "metadata": {
  "kernelspec": {
   "display_name": "Python 3 (ipykernel)",
   "language": "python",
   "name": "python3"
  },
  "language_info": {
   "codemirror_mode": {
    "name": "ipython",
    "version": 3
   },
   "file_extension": ".py",
   "mimetype": "text/x-python",
   "name": "python",
   "nbconvert_exporter": "python",
   "pygments_lexer": "ipython3",
   "version": "3.11.5"
  }
 },
 "nbformat": 4,
 "nbformat_minor": 5
}
