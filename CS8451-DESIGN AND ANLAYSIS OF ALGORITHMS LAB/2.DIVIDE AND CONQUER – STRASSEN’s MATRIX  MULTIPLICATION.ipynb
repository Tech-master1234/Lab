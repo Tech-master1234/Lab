{
 "cells": [
  {
   "cell_type": "code",
   "execution_count": 1,
   "id": "9f35ab0a-cd00-4ad2-a8b4-57940ec4db89",
   "metadata": {
    "tags": []
   },
   "outputs": [
    {
     "name": "stdout",
     "output_type": "stream",
     "text": [
      "Matrix A:\n",
      "[[1 2]\n",
      " [3 4]]\n",
      "\n",
      "Matrix B:\n",
      "[[5 6]\n",
      " [7 8]]\n",
      "\n",
      "Resultant Matrix C (Strassen's Multiplication):\n",
      "[[19 22]\n",
      " [43 50]]\n"
     ]
    }
   ],
   "source": [
    "import numpy as np\n",
    "\n",
    "def strassen_multiply(A, B):\n",
    "    n = len(A)\n",
    "    # Base case: If the matrices are 1x1, perform standard multiplication\n",
    "    if n == 1:\n",
    "        return np.array([[A[0][0] * B[0][0]]])\n",
    "    # Split matrices into four equal-sized submatrices\n",
    "    a11, a12, a21, a22 = A[:n//2, :n//2], A[:n//2, n//2:], A[n//2:, :n//2], A[n//2:, n//2:]\n",
    "    b11, b12, b21, b22 = B[:n//2, :n//2], B[:n//2, n//2:], B[n//2:, :n//2], B[n//2:, n//2:]\n",
    "    # Recursive computation of seven products\n",
    "    p1 = strassen_multiply(a11 + a22, b11 + b22)\n",
    "    p2 = strassen_multiply(a21 + a22, b11)\n",
    "    p3 = strassen_multiply(a11, b12 - b22)\n",
    "    p4 = strassen_multiply(a22, b21 - b11)\n",
    "    p5 = strassen_multiply(a11 + a12, b22)\n",
    "    p6 = strassen_multiply(a21 - a11, b11 + b12)\n",
    "    p7 = strassen_multiply(a12 - a22, b21 + b22)\n",
    "    # Combine the products to get the result matrix\n",
    "    c11 = p1 + p4 - p5 + p7\n",
    "    c12 = p3 + p5\n",
    "    c21 = p2 + p4\n",
    "    c22 = p1 - p2 + p3 + p6\n",
    "    # Combine the submatrices into the result matrix\n",
    "    result = np.vstack((np.hstack((c11, c12)), np.hstack((c21, c22))))\n",
    "    return result\n",
    "\n",
    "# Main program\n",
    "if __name__ == \"__main__\":\n",
    "    # Example matrices A and B\n",
    "    A = np.array([[1, 2], [3, 4]])\n",
    "    B = np.array([[5, 6], [7, 8]])\n",
    "    # Perform Strassen's Matrix Multiplication\n",
    "    result = strassen_multiply(A, B)\n",
    "    # Display the result\n",
    "    print(\"Matrix A:\")\n",
    "    print(A)\n",
    "    print(\"\\nMatrix B:\")\n",
    "    print(B)\n",
    "    print(\"\\nResultant Matrix C (Strassen's Multiplication):\")\n",
    "    print(result)\n"
   ]
  },
  {
   "cell_type": "code",
   "execution_count": null,
   "id": "1fc6563d-4e50-4d89-9f1c-1973ea6171fa",
   "metadata": {},
   "outputs": [],
   "source": []
  },
  {
   "cell_type": "code",
   "execution_count": null,
   "id": "7379769c-5a14-4787-8945-166d2b023a7b",
   "metadata": {},
   "outputs": [],
   "source": []
  }
 ],
 "metadata": {
  "kernelspec": {
   "display_name": "Python 3 (ipykernel)",
   "language": "python",
   "name": "python3"
  },
  "language_info": {
   "codemirror_mode": {
    "name": "ipython",
    "version": 3
   },
   "file_extension": ".py",
   "mimetype": "text/x-python",
   "name": "python",
   "nbconvert_exporter": "python",
   "pygments_lexer": "ipython3",
   "version": "3.11.5"
  }
 },
 "nbformat": 4,
 "nbformat_minor": 5
}
