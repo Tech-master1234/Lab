{
 "cells": [
  {
   "cell_type": "code",
   "execution_count": 1,
   "id": "5a0a4e3c-f99f-4e3b-9074-f9781f6d8838",
   "metadata": {
    "tags": []
   },
   "outputs": [
    {
     "name": "stdout",
     "output_type": "stream",
     "text": [
      "Following matrix shows the shortest distances    between every pair of vertices\n",
      "      0\t       5\t       8\t       9\t \n",
      "    INF       0\t       3\t       4\t \n",
      "    INF     INF       0\t       1\t \n",
      "    INF     INF     INF       0\t \n"
     ]
    }
   ],
   "source": [
    "# Number of vertices in the graph\n",
    "V = 4\n",
    "# Define infinity as the large\n",
    "# enough value. This value will be\n",
    "# used for vertices not connected to each other\n",
    "INF = 99999\n",
    "\n",
    "# Solves all pair shortest path\n",
    "# via Floyd Warshall Algorithm\n",
    "def floydWarshall(graph):\n",
    "    \"\"\" dist[][] will be the output matrix that will finally have the shortest \n",
    "    distances between every pair of vertices \"\"\"\n",
    "    \"\"\" initializing the solution matrix same as input graph matrix OR we can \n",
    "    say that the initial values of shortest distances are based on shortest paths \n",
    "    considering no intermediate vertices \"\"\"\n",
    "    dist = list(map(lambda i: list(map(lambda j: j, i)), graph))\n",
    "    \"\"\" Add all vertices one by one to the set of intermediate vertices.\n",
    "    ---> Before start of an iteration, \n",
    "    we have shortest distances between all pairs of vertices such that the \n",
    "    shortest distances consider only the vertices in the set {0, 1, 2, .. k-1} as \n",
    "    intermediate vertices.\n",
    "    ----> After the end of a iteration, vertex no. k is added to the set of \n",
    "    intermediate vertices and the set becomes {0, 1, 2, .. k} \"\"\"\n",
    "    for k in range(V):\n",
    "        # pick all vertices as source one by one\n",
    "        for i in range(V):\n",
    "            # Pick all vertices as destination for the\n",
    "            # above picked source\n",
    "            for j in range(V):\n",
    "                # If vertex k is on the shortest path from\n",
    "                # i to j, then update the value of dist[i][j]\n",
    "                dist[i][j] = min(dist[i][j], dist[i][k] + dist[k][j])\n",
    "    return dist\n",
    "\n",
    "# A utility function to print the solution\n",
    "def printSolution(dist):\n",
    "    print(\"Following matrix shows the shortest distances\\\n",
    "    between every pair of vertices\")\n",
    "    for i in range(V):\n",
    "        for j in range(V):\n",
    "            if(dist[i][j] == INF):\n",
    "                print(\"%7s\" % (\"INF\"), end=\" \")\n",
    "            else:\n",
    "                print(\"%7d\\t\" % (dist[i][j]), end=' ')\n",
    "        if j == V-1:\n",
    "            print()\n",
    "\n",
    "# Driver's code\n",
    "if __name__ == \"__main__\":\n",
    "    \"\"\"\n",
    "    10\n",
    "    (0)------->(3)\n",
    "    | /|\\\n",
    "    5 | |\n",
    "    | | 1\n",
    "    \\|/ |\n",
    "    (1)------->(2)\n",
    "    3 \"\"\"\n",
    "    graph = [[0, 5, INF, 10],\n",
    "             [INF, 0, 3, INF],\n",
    "             [INF, INF, 0, 1],\n",
    "             [INF, INF, INF, 0]\n",
    "             ]\n",
    "    # Function call\n",
    "    result = floydWarshall(graph)\n",
    "    printSolution(result)\n"
   ]
  },
  {
   "cell_type": "code",
   "execution_count": null,
   "id": "106e108e-d75a-401b-959d-ee045f31d60f",
   "metadata": {},
   "outputs": [],
   "source": []
  }
 ],
 "metadata": {
  "kernelspec": {
   "display_name": "Python 3 (ipykernel)",
   "language": "python",
   "name": "python3"
  },
  "language_info": {
   "codemirror_mode": {
    "name": "ipython",
    "version": 3
   },
   "file_extension": ".py",
   "mimetype": "text/x-python",
   "name": "python",
   "nbconvert_exporter": "python",
   "pygments_lexer": "ipython3",
   "version": "3.11.5"
  }
 },
 "nbformat": 4,
 "nbformat_minor": 5
}
