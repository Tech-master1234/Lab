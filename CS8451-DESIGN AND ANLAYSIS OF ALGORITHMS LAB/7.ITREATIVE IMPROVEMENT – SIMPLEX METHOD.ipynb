{
 "cells": [
  {
   "cell_type": "code",
   "execution_count": 3,
   "id": "2fba1d26-5fea-48f7-b8b6-17177aed7fe3",
   "metadata": {
    "tags": []
   },
   "outputs": [
    {
     "name": "stdout",
     "output_type": "stream",
     "text": [
      "Optimal Solution: [0. 1.]\n",
      "Optimal Value: -1.0\n"
     ]
    }
   ],
   "source": [
    "import numpy as np\n",
    "\n",
    "def simplex_method(c, A, b):\n",
    "    m, n = A.shape\n",
    "    tableau = np.hstack((A, np.eye(m)))\n",
    "    c = np.hstack((c, np.zeros(m)))\n",
    "    basic_vars = np.arange(n, n + m)\n",
    "    \n",
    "    while True:\n",
    "        # Check if the current solution reaches the optimal solution\n",
    "        if np.all(c <= 0):\n",
    "            optimal_solution = tableau[:, -1]\n",
    "            optimal_value = -tableau[-1, -1]\n",
    "            return optimal_solution[:n], optimal_value\n",
    "        \n",
    "        # Choose the pivot column (minimum coefficient in the objective function)\n",
    "        pivot_col = np.argmin(c)\n",
    "        \n",
    "        # Check for unbounded solution\n",
    "        if np.all(tableau[:, pivot_col] <= 0):\n",
    "            raise Exception(\"The solution is unbounded.\")\n",
    "        \n",
    "        # Choose the pivot row (minimum ratio test)\n",
    "        ratios = tableau[:-1, -1] / tableau[:-1, pivot_col]\n",
    "        pivot_row_candidates = np.where(ratios == np.min(ratios))[0]\n",
    "        pivot_row = pivot_row_candidates[0]  # Select the first pivot row in case of degeneracy\n",
    "        \n",
    "        # Update the tableau using pivot operations\n",
    "        pivot = tableau[pivot_row, pivot_col]\n",
    "        tableau[pivot_row, :] /= pivot\n",
    "        for i in range(m + 1):\n",
    "            if i != pivot_row:\n",
    "                tableau[i, :] -= tableau[i, pivot_col] * tableau[pivot_row, :]\n",
    "        \n",
    "        # Update basic variables\n",
    "        basic_vars[pivot_row] = pivot_col\n",
    "\n",
    "# Main program\n",
    "if __name__ == \"__main__\":\n",
    "    # Example linear programming problem\n",
    "    c = np.array([-2, -3, 0, 0])\n",
    "    A = np.array([[1, -1, 1, 0],\n",
    "                  [3, 1, 0, 1]])\n",
    "    b = np.array([2, 5])\n",
    "    optimal_solution, optimal_value = simplex_method(c, A, b)\n",
    "    print(\"Optimal Solution:\", optimal_solution)\n",
    "    print(\"Optimal Value:\", optimal_value)\n"
   ]
  }
 ],
 "metadata": {
  "kernelspec": {
   "display_name": "Python 3 (ipykernel)",
   "language": "python",
   "name": "python3"
  },
  "language_info": {
   "codemirror_mode": {
    "name": "ipython",
    "version": 3
   },
   "file_extension": ".py",
   "mimetype": "text/x-python",
   "name": "python",
   "nbconvert_exporter": "python",
   "pygments_lexer": "ipython3",
   "version": "3.11.5"
  }
 },
 "nbformat": 4,
 "nbformat_minor": 5
}
