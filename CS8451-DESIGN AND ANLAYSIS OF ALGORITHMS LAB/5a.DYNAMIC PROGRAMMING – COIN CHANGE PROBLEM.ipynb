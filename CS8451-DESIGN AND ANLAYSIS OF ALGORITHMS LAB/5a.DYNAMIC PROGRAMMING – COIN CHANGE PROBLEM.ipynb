{
 "cells": [
  {
   "cell_type": "code",
   "execution_count": 5,
   "id": "5c7feafe-4d16-4d2b-ab1d-6d1989f97e99",
   "metadata": {
    "tags": []
   },
   "outputs": [
    {
     "name": "stdout",
     "output_type": "stream",
     "text": [
      "Number of ways to make change for 5 is: 4\n"
     ]
    }
   ],
   "source": [
    "def count_ways_to_make_change(coins, target):\n",
    "    n = len(coins)\n",
    "    table = [0] * (target + 1)\n",
    "    table[0] = 1  # There is one way to make a change of 0\n",
    "    for coin in coins:\n",
    "        for i in range(coin, target + 1):\n",
    "            table[i] += table[i - coin]\n",
    "    return table[target]\n",
    "\n",
    "# Main program\n",
    "if __name__ == \"__main__\":\n",
    "    coins = [1, 2, 5]\n",
    "    target = 5\n",
    "    ways = count_ways_to_make_change(coins, target)\n",
    "    print(f\"Number of ways to make change for {target} is: {ways}\")\n"
   ]
  },
  {
   "cell_type": "code",
   "execution_count": null,
   "id": "3831f34c-082b-4bfb-95f1-fe56a6fef2af",
   "metadata": {},
   "outputs": [],
   "source": []
  },
  {
   "cell_type": "code",
   "execution_count": null,
   "id": "89e24c27-8410-46a5-9653-95585250a448",
   "metadata": {},
   "outputs": [],
   "source": []
  },
  {
   "cell_type": "code",
   "execution_count": null,
   "id": "bf221e33-bf90-4bdd-99d4-520e715c0dea",
   "metadata": {},
   "outputs": [],
   "source": []
  },
  {
   "cell_type": "code",
   "execution_count": null,
   "id": "8d30aa29-d2d4-4805-b2be-0bae2a424c06",
   "metadata": {},
   "outputs": [],
   "source": []
  },
  {
   "cell_type": "code",
   "execution_count": null,
   "id": "8e1cf02a-32a1-46bc-915c-065f15600a9d",
   "metadata": {},
   "outputs": [],
   "source": []
  },
  {
   "cell_type": "code",
   "execution_count": null,
   "id": "f850edf6-c758-4e64-a67b-74c79a9be06f",
   "metadata": {},
   "outputs": [],
   "source": []
  }
 ],
 "metadata": {
  "kernelspec": {
   "display_name": "Python 3 (ipykernel)",
   "language": "python",
   "name": "python3"
  },
  "language_info": {
   "codemirror_mode": {
    "name": "ipython",
    "version": 3
   },
   "file_extension": ".py",
   "mimetype": "text/x-python",
   "name": "python",
   "nbconvert_exporter": "python",
   "pygments_lexer": "ipython3",
   "version": "3.11.5"
  }
 },
 "nbformat": 4,
 "nbformat_minor": 5
}
