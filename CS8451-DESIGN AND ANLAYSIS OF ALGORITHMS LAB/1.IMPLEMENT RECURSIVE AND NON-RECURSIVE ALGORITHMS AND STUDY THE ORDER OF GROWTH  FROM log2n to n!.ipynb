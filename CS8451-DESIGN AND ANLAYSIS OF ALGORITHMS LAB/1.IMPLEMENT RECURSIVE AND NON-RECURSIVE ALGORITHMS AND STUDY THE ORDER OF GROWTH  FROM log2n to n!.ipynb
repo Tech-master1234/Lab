{
 "cells": [
  {
   "cell_type": "code",
   "execution_count": 2,
   "id": "bab7f383-c708-41d7-a5e1-ad912e42f30d",
   "metadata": {
    "tags": []
   },
   "outputs": [
    {
     "name": "stdout",
     "output_type": "stream",
     "text": [
      "n = 2^1\n",
      "Recursive Time: 0.0\n",
      "Non-Recursive Time: 0.0\n",
      "------\n",
      "n = 2^2\n",
      "Recursive Time: 0.0\n",
      "Non-Recursive Time: 0.0\n",
      "------\n",
      "n = 2^3\n",
      "Recursive Time: 0.0\n",
      "Non-Recursive Time: 0.0\n",
      "------\n",
      "n = 2^4\n",
      "Recursive Time: 0.0\n",
      "Non-Recursive Time: 0.0\n",
      "------\n",
      "n = 2^5\n",
      "Recursive Time: 0.0\n",
      "Non-Recursive Time: 0.0\n",
      "------\n"
     ]
    }
   ],
   "source": [
    "import time\n",
    "import math\n",
    "\n",
    "# Recursive Algorithm\n",
    "def recursive_factorial(n):\n",
    "    if n == 0 or n == 1:\n",
    "        return 1\n",
    "    return n * recursive_factorial(n - 1)\n",
    "\n",
    "# Non-Recursive Algorithm\n",
    "def non_recursive_factorial(n):\n",
    "    result = 1\n",
    "    for i in range(1, n + 1):\n",
    "        result *= i\n",
    "    return result\n",
    "\n",
    "# Measure time complexity\n",
    "def measure_time_complexity(algorithm, n):\n",
    "    start_time = time.time()\n",
    "    algorithm(n)\n",
    "    end_time = time.time()\n",
    "    return end_time - start_time\n",
    "\n",
    "# Main program\n",
    "for i in range(1, 6):\n",
    "    n = int(math.pow(2, i))\n",
    "    recursive_time = measure_time_complexity(recursive_factorial, n)\n",
    "    non_recursive_time = measure_time_complexity(non_recursive_factorial, n)\n",
    "    print(f\"n = 2^{i}\")\n",
    "    print(f\"Recursive Time: {recursive_time}\")\n",
    "    print(f\"Non-Recursive Time: {non_recursive_time}\")\n",
    "    print(\"------\")\n"
   ]
  },
  {
   "cell_type": "code",
   "execution_count": null,
   "id": "fbcf0211-2b40-4b14-9403-f5810cf2cd95",
   "metadata": {},
   "outputs": [],
   "source": []
  }
 ],
 "metadata": {
  "kernelspec": {
   "display_name": "Python 3 (ipykernel)",
   "language": "python",
   "name": "python3"
  },
  "language_info": {
   "codemirror_mode": {
    "name": "ipython",
    "version": 3
   },
   "file_extension": ".py",
   "mimetype": "text/x-python",
   "name": "python",
   "nbconvert_exporter": "python",
   "pygments_lexer": "ipython3",
   "version": "3.11.5"
  }
 },
 "nbformat": 4,
 "nbformat_minor": 5
}
