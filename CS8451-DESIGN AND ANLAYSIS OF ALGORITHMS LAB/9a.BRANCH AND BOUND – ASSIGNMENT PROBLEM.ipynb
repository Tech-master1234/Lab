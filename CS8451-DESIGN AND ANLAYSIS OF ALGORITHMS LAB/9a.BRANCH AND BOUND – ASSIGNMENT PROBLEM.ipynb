{
 "cells": [
  {
   "cell_type": "code",
   "execution_count": 1,
   "id": "01d9b0ed-d6d8-4235-9e9c-abd000ef9e10",
   "metadata": {
    "tags": []
   },
   "outputs": [
    {
     "name": "stdout",
     "output_type": "stream",
     "text": [
      "Optimal Assignment: (1, 0, 2, 3)\n",
      "Minimum Cost: 13\n"
     ]
    }
   ],
   "source": [
    "import numpy as np\n",
    "from itertools import permutations\n",
    "\n",
    "def assignment_cost(assignment, cost_matrix):\n",
    "    total_cost = 0\n",
    "    for worker, task in enumerate(assignment):\n",
    "        total_cost += cost_matrix[worker, task]\n",
    "    return total_cost\n",
    "\n",
    "def branch_and_bound_assignment(cost_matrix):\n",
    "    n = len(cost_matrix)\n",
    "    min_cost = float('inf')\n",
    "    optimal_assignment = None\n",
    "    for assignment in permutations(range(n)):\n",
    "        current_cost = assignment_cost(assignment, cost_matrix)\n",
    "        if current_cost < min_cost:\n",
    "            min_cost = current_cost\n",
    "            optimal_assignment = assignment\n",
    "    return optimal_assignment, min_cost\n",
    "\n",
    "# Main program\n",
    "if __name__ == \"__main__\":\n",
    "    # Example cost matrix for the assignment problem\n",
    "    cost_matrix = np.array([\n",
    "        [9, 2, 7, 8],\n",
    "        [6, 4, 3, 7],\n",
    "        [5, 8, 1, 8],\n",
    "        [7, 6, 9, 4]\n",
    "    ])\n",
    "    optimal_assignment, min_cost = branch_and_bound_assignment(cost_matrix)\n",
    "    print(\"Optimal Assignment:\", optimal_assignment)\n",
    "    print(\"Minimum Cost:\", min_cost)\n"
   ]
  }
 ],
 "metadata": {
  "kernelspec": {
   "display_name": "Python 3 (ipykernel)",
   "language": "python",
   "name": "python3"
  },
  "language_info": {
   "codemirror_mode": {
    "name": "ipython",
    "version": 3
   },
   "file_extension": ".py",
   "mimetype": "text/x-python",
   "name": "python",
   "nbconvert_exporter": "python",
   "pygments_lexer": "ipython3",
   "version": "3.11.5"
  }
 },
 "nbformat": 4,
 "nbformat_minor": 5
}
