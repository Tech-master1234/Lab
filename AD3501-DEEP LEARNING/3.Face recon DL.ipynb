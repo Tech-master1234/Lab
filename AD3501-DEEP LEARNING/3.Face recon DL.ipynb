{
 "cells": [
  {
   "cell_type": "code",
   "execution_count": null,
   "metadata": {
    "id": "8QPWPBAF2VDW"
   },
   "outputs": [],
   "source": [
    "import cv2 as cv\n",
    "import face_recognition\n",
    "import matplotlib.pyplot as plt\n",
    "\n",
    "# Load the known image\n",
    "known_image = face_recognition.load_image_file(\"person 1.jpeg\")\n",
    "known_faces = face_recognition.face_encodings(face_image=known_image, num_jitters=50, model='large')[0]\n",
    "\n",
    "# Launch the live camera\n",
    "cam = cv.VideoCapture(0)\n",
    "\n",
    "# Check if the camera is opened\n",
    "if not cam.isOpened():\n",
    "    print(\"Camera not working\")\n",
    "    exit()\n",
    "\n",
    "# Process frames from the camera\n",
    "while True:\n",
    "    ret, frame = cam.read()\n",
    "\n",
    "    if not ret:\n",
    "        print(\"Can't receive the frame\")\n",
    "        break\n",
    "\n",
    "    # Face detection in the frame\n",
    "    face_locations = face_recognition.face_locations(frame)\n",
    "    for face_location in face_locations:\n",
    "        top, right, bottom, left = face_location\n",
    "        frame = cv.rectangle(frame, (right, top), (left, bottom), color=(0, 0, 255), thickness=2)\n",
    "\n",
    "        try:\n",
    "            # Encode the live face\n",
    "            live_face_encoding = face_recognition.face_encodings(face_image=frame, num_jitters=50, model='large')[0]\n",
    "\n",
    "            # Compare with the known faces\n",
    "            results = face_recognition.compare_faces([known_faces], live_face_encoding)\n",
    "            if results:\n",
    "                img = cv.cvtColor(frame, cv.COLOR_BGR2RGB)\n",
    "                img = cv.putText(img, 'person 1', (30, 55), cv.FONT_HERSHEY_SIMPLEX, 1, (255, 0, 0), 2, cv.LINE_AA)\n",
    "                print('known face detected!')\n",
    "                plt.imshow(img)\n",
    "                plt.show()\n",
    "                break\n",
    "        except:\n",
    "            img = cv.putText(frame, 'Not PawanKrgunjan', (30, 55), cv.FONT_HERSHEY_SIMPLEX, 1, (255, 0, 0), 2, cv.LINE_AA)\n",
    "            cv.imshow('frame', img)\n",
    "\n",
    "    # Exit the streaming\n",
    "    if cv.waitKey(1) == ord('q'):\n",
    "        break\n",
    "\n",
    "# Release the capture\n",
    "cam.release()\n",
    "cv.destroyAllWindows()\n"
   ]
  },
  {
   "cell_type": "code",
   "execution_count": 1,
   "metadata": {
    "colab": {
     "base_uri": "https://localhost:8080/"
    },
    "executionInfo": {
     "elapsed": 34428,
     "status": "ok",
     "timestamp": 1724997703400,
     "user": {
      "displayName": "Mix Master",
      "userId": "09511533599127285786"
     },
     "user_tz": -330
    },
    "id": "X1BO_dwL31bD",
    "outputId": "5bc53371-34d4-4a8c-fb9d-9bbc4258e473"
   },
   "outputs": [
    {
     "name": "stdout",
     "output_type": "stream",
     "text": [
      "Collecting face_recognition\n",
      "  Downloading face_recognition-1.3.0-py2.py3-none-any.whl.metadata (21 kB)\n",
      "Collecting face-recognition-models>=0.3.0 (from face_recognition)\n",
      "  Downloading face_recognition_models-0.3.0.tar.gz (100.1 MB)\n",
      "\u001b[2K     \u001b[90m━━━━━━━━━━━━━━━━━━━━━━━━━━━━━━━━━━━━━━━━\u001b[0m \u001b[32m100.1/100.1 MB\u001b[0m \u001b[31m8.8 MB/s\u001b[0m eta \u001b[36m0:00:00\u001b[0m\n",
      "\u001b[?25h  Preparing metadata (setup.py) ... \u001b[?25l\u001b[?25hdone\n",
      "Requirement already satisfied: Click>=6.0 in /usr/local/lib/python3.10/dist-packages (from face_recognition) (8.1.7)\n",
      "Requirement already satisfied: dlib>=19.7 in /usr/local/lib/python3.10/dist-packages (from face_recognition) (19.24.2)\n",
      "Requirement already satisfied: numpy in /usr/local/lib/python3.10/dist-packages (from face_recognition) (1.26.4)\n",
      "Requirement already satisfied: Pillow in /usr/local/lib/python3.10/dist-packages (from face_recognition) (9.4.0)\n",
      "Downloading face_recognition-1.3.0-py2.py3-none-any.whl (15 kB)\n",
      "Building wheels for collected packages: face-recognition-models\n",
      "  Building wheel for face-recognition-models (setup.py) ... \u001b[?25l\u001b[?25hdone\n",
      "  Created wheel for face-recognition-models: filename=face_recognition_models-0.3.0-py2.py3-none-any.whl size=100566164 sha256=b66569953024ca00518f6ec93975c1093a94e18373bafd6a5789f1b699142556\n",
      "  Stored in directory: /root/.cache/pip/wheels/7a/eb/cf/e9eced74122b679557f597bb7c8e4c739cfcac526db1fd523d\n",
      "Successfully built face-recognition-models\n",
      "Installing collected packages: face-recognition-models, face_recognition\n",
      "Successfully installed face-recognition-models-0.3.0 face_recognition-1.3.0\n"
     ]
    }
   ],
   "source": [
    "pip install face_recognition"
   ]
  }
 ],
 "metadata": {
  "colab": {
   "authorship_tag": "ABX9TyPg9xX1sAYBH9CeqTVUV99G",
   "provenance": []
  },
  "kernelspec": {
   "display_name": "Python 3",
   "name": "python3"
  },
  "language_info": {
   "name": "python",
   "version": "3.12.8"
  }
 },
 "nbformat": 4,
 "nbformat_minor": 0
}
